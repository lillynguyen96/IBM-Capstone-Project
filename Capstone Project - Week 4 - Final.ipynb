{
 "cells": [
  {
   "cell_type": "markdown",
   "metadata": {
    "collapsed": true
   },
   "source": [
    "# IBM Capstone Project\n",
    "\n",
    "## Battle of the Neighborhood - Part 1"
   ]
  },
  {
   "cell_type": "markdown",
   "metadata": {},
   "source": [
    "### 1. Introduction "
   ]
  },
  {
   "cell_type": "markdown",
   "metadata": {},
   "source": [
    "This is the final project of the IBM Data Science Professional Certification on Coursera. The main purpose of this project is to apply Python programmimg skills and data science methodologies to study location data and solve real-world problems.\n",
    "IBM only provides a guideline to execute the project. Learners are responsible for creating a business problem and analytics approach on their own. Learners are required to leverage Foursquare location data to explore or compare the cities of their choice, or to come up with a problem that they can use Foursquare API to solve."
   ]
  },
  {
   "cell_type": "markdown",
   "metadata": {},
   "source": [
    "### 2. Problem "
   ]
  },
  {
   "cell_type": "markdown",
   "metadata": {},
   "source": [
    "\n",
    "New York City has been one of the most populated cities in the United States with more than 8.6 million residents. Due to the busy work schedule, New Yorkers do not have time for cooking and thus often depend on restaurants for eating dine-in or ordering food delivery. Even though the number of restaurants in the city has reached over 24,000, the demand for new restaurants is still always high. It is not surprising that the restaurant industry is vital to the economic footprint and social fabric of New York City. (Source: Forbes). \n",
    " \n",
    "To boost economic development, NYC city planners want to help current restaurant owners run their business smoothly while attracting more new investors to start a new restaurant business in the city. They want to know about the following two topics:\n",
    " \n",
    "#### The competition:\n",
    "According to the New York City Health Department data, there are over 24,000 franchise and local restaurants currently operating in the city with large food varieties. In this competitive market, it is important for entrepreneurs to choose the market segment they would like to go to. It is crucial to understand the popular food categories, the popular location and customers reference in order to identify the right market segment (Source: NYC Health Department) \n",
    "\n",
    "#### Regulation:\n",
    "The New York City Health Department inspects all food service establishments to make sure they meet Health Code requirements, which helps prevent foodborne illness. Restaurants are required to clearly post letter grades that correspond to scores received from sanitary inspections. A full description of the inspection circle overview can be viewed here. Restaurants owners need to maintain a good rating in order to successfully run their business  in the long term. \n",
    " \n",
    "The project aims to support the city planner by answering the following questions:\n",
    "- What is the problem with the restaurant having a low sanity rating? What should the restaurant do to maintain a good sanity rating?\n",
    "- Are food categories impact the customers’ favorability towards a restaurant? If yes, Which food category is the most popular one? Which are the local customers’ favorite food categories? \n",
    "- Which neighborhood area in New York City is the best for launching a new restaurant business?\n"
   ]
  },
  {
   "cell_type": "markdown",
   "metadata": {},
   "source": [
    "### 3. Data Description "
   ]
  },
  {
   "cell_type": "markdown",
   "metadata": {},
   "source": [
    "I will use two datasets from the following two main sources:\n",
    "\n",
    "1. FourSquare API which provides the surrounding venues of a given coordinate and its \"likes\"\n",
    "\n",
    "We will use Python to gather the data from FourSquare API using NYC coordinates (40.7128 N 74.0060 W). \n",
    "\n",
    "2. The New York City Health Department's Restaurant Inspection Results https://data.cityofnewyork.us/Health/DOHMH-New-York-City-Restaurant-Inspection-Results/43nn-pn8j\n",
    "\n",
    "The dataset contains every sustained or not yet adjudicated violation citation from every full or special program inspection conducted up to three years prior to the most recent inspection for restaurants and college cafeterias in an active status on the RECORD DATE (date of the data pull). When inspection results in more than one violation, values for associated fields are repeated for each additional violation record. Establishments are uniquely identified by their CAMIS (record ID) number. Keep in mind that thousands of restaurants start a business and go out of business every year; only restaurants in an active status are included in the dataset. \n",
    " \n",
    "The restaurant grading system is based on the violation score. The score is from 0 and up. A low score is good as it indicates no violations. Each violation has some point value so a score of 0 means there are no violations. The final grade is based on the sum of all the points.\n",
    "- 0 to 13 earns an A\n",
    "- 14 to 27 earns a B\n",
    "- 28 or more earns a C\n"
   ]
  },
  {
   "cell_type": "markdown",
   "metadata": {},
   "source": [
    "#### Source:\n",
    "\n",
    "Forbes: https://www.forbes.com/sites/garyocchiogrosso/2019/12/20/the-new-york-city-restaurant-business-is-so-much-more-than-just-the-center-of-the-plate/#138b04a7639c\n",
    "    \n",
    "NYC Health Department's Restaurant Data Source: https://data.cityofnewyork.us/Health/DOHMH-New-York-City-Restaurant-Inspection-Results/43nn-pn8j"
   ]
  }
 ],
 "metadata": {
  "kernelspec": {
   "display_name": "Python 3.6",
   "language": "python",
   "name": "python3"
  },
  "language_info": {
   "codemirror_mode": {
    "name": "ipython",
    "version": 3
   },
   "file_extension": ".py",
   "mimetype": "text/x-python",
   "name": "python",
   "nbconvert_exporter": "python",
   "pygments_lexer": "ipython3",
   "version": "3.6.9"
  }
 },
 "nbformat": 4,
 "nbformat_minor": 1
}
